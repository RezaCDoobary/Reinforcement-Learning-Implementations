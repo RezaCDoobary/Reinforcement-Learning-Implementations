{
 "nbformat": 4,
 "nbformat_minor": 2,
 "metadata": {
  "language_info": {
   "name": "python",
   "codemirror_mode": {
    "name": "ipython",
    "version": 3
   },
   "version": "3.6.9-final"
  },
  "orig_nbformat": 2,
  "file_extension": ".py",
  "mimetype": "text/x-python",
  "name": "python",
  "npconvert_exporter": "python",
  "pygments_lexer": "ipython3",
  "version": 3,
  "kernelspec": {
   "name": "python36964bitmlenvconda9f54039d931e4029adcffd4ea832f0f0",
   "display_name": "Python 3.6.9 64-bit ('ml_env': conda)"
  }
 },
 "cells": [
  {
   "cell_type": "code",
   "execution_count": 1,
   "metadata": {},
   "outputs": [],
   "source": [
    "import environments\n",
    "import numpy as np\n",
    "from collections import deque\n",
    "from collections import defaultdict\n",
    "import matplotlib.pyplot as plt\n",
    "from replaybuffer import *\n",
    "\n",
    "from library import *\n",
    " \n",
    "%matplotlib inline"
   ]
  },
  {
   "cell_type": "code",
   "execution_count": 2,
   "metadata": {},
   "outputs": [
    {
     "name": "stdout",
     "output_type": "stream",
     "text": "\u001b[33mWARN: gym.spaces.Box autodetected dtype as <class 'numpy.float32'>. Please provide explicit dtype.\u001b[0m\n"
    }
   ],
   "source": [
    "env1 = environments.environment_gym('Acrobot-v1')\n",
    "env = environments.env_wrapper(env1)"
   ]
  },
  {
   "cell_type": "code",
   "execution_count": null,
   "metadata": {},
   "outputs": [],
   "source": []
  },
  {
   "cell_type": "code",
   "execution_count": 3,
   "metadata": {},
   "outputs": [
    {
     "data": {
      "text/plain": "<environment.env_wrapper at 0x111e603c8>"
     },
     "execution_count": 3,
     "metadata": {},
     "output_type": "execute_result"
    }
   ],
   "source": [
    "env"
   ]
  },
  {
   "cell_type": "code",
   "execution_count": 20,
   "metadata": {},
   "outputs": [],
   "source": [
    "state = env.reset()"
   ]
  },
  {
   "cell_type": "code",
   "execution_count": 4,
   "metadata": {},
   "outputs": [],
   "source": [
    "import torch\n",
    "import torch.nn as nn\n",
    "import torch.nn.functional as F"
   ]
  },
  {
   "cell_type": "code",
   "execution_count": 43,
   "metadata": {},
   "outputs": [],
   "source": [
    "class LinearModel(nn.Module):\n",
    "    def __init__(self, state_size, action_size):\n",
    "        super(LinearModel, self).__init__()\n",
    "        self.linear = nn.Linear(state_size, action_size)\n",
    "\n",
    "    def forward(self,x):\n",
    "        out = self.linear(x)\n",
    "        values, action = F.softmax(out).max(0)\n",
    "        return action , F.log_softmax(out)[action]"
   ]
  },
  {
   "cell_type": "code",
   "execution_count": 44,
   "metadata": {},
   "outputs": [
    {
     "data": {
      "text/plain": "(tensor(0), tensor(-0.9354, grad_fn=<SelectBackward>))"
     },
     "execution_count": 44,
     "metadata": {},
     "output_type": "execute_result"
    }
   ],
   "source": [
    "model = LinearModel(env.env.observation_space().shape[0],env.action_size())\n",
    "model(torch.tensor(env.reset()).float())"
   ]
  },
  {
   "cell_type": "code",
   "execution_count": 51,
   "metadata": {},
   "outputs": [],
   "source": [
    "trajectory_length = 1000\n",
    "sample_size = 100\n",
    "\n",
    "def generate_trajectory(env, model, sample_size):\n",
    "    sample = []\n",
    "    state = env.reset()\n",
    "    while len(sample) != sample_size:\n",
    "        action, log_prob = model(torch.tensor(state).float())\n",
    "        new_state, reward, done, _ = env.step(action.item())\n",
    "        sample.append((state, action, log_prob, reward, int(done)))\n",
    "        if done:\n",
    "            state = env.reset()\n",
    "        else:\n",
    "            state = new_state\n",
    "\n",
    "    return sample\n",
    "\n",
    "traj = generate_trajectory(env, model, 10)"
   ]
  },
  {
   "cell_type": "code",
   "execution_count": 52,
   "metadata": {},
   "outputs": [
    {
     "data": {
      "text/plain": "(array([ 0.99705704,  0.07666334,  0.99904004,  0.04380641,  0.00749738,\n        -0.08939245]),\n tensor(0),\n tensor(-0.9326, grad_fn=<SelectBackward>),\n -1.0,\n 0)"
     },
     "execution_count": 52,
     "metadata": {},
     "output_type": "execute_result"
    }
   ],
   "source": [
    "traj[0]"
   ]
  },
  {
   "cell_type": "code",
   "execution_count": null,
   "metadata": {},
   "outputs": [],
   "source": []
  },
  {
   "cell_type": "code",
   "execution_count": null,
   "metadata": {},
   "outputs": [],
   "source": []
  },
  {
   "cell_type": "code",
   "execution_count": null,
   "metadata": {},
   "outputs": [],
   "source": []
  },
  {
   "cell_type": "code",
   "execution_count": null,
   "metadata": {},
   "outputs": [],
   "source": []
  }
 ]
}